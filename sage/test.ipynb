{
 "cells": [
  {
   "cell_type": "code",
   "execution_count": 12,
   "metadata": {},
   "outputs": [],
   "source": [
    "vs = list(var('a, b, c, d'))\n",
    "\n",
    "rootTerms = [0]\n",
    "\n",
    "for v in vs:\n",
    "\trLen = len(rootTerms)\n",
    "\tfor i in range(rLen):\n",
    "\t\trootTerms.append(rootTerms[i] - v)\n",
    "\t\trootTerms[i] = rootTerms[i] + v\n"
   ]
  },
  {
   "cell_type": "code",
   "execution_count": 13,
   "metadata": {},
   "outputs": [
    {
     "name": "stdout",
     "output_type": "stream",
     "text": [
      "Done with term 0 out of 16\n",
      "Done with term 1 out of 16\n",
      "Done with term 2 out of 16\n",
      "Done with term 3 out of 16\n",
      "Done with term 4 out of 16\n",
      "Done with term 5 out of 16\n",
      "Done with term 6 out of 16\n",
      "Done with term 7 out of 16\n",
      "Done with term 8 out of 16\n",
      "Done with term 9 out of 16\n",
      "Done with term 10 out of 16\n",
      "Done with term 11 out of 16\n",
      "Done with term 12 out of 16\n",
      "Done with term 13 out of 16\n",
      "Done with term 14 out of 16\n",
      "Done with term 15 out of 16\n"
     ]
    },
    {
     "data": {
      "text/plain": [
       "a^16 - 8*a^14*b^2 + 28*a^12*b^4 - 56*a^10*b^6 + 70*a^8*b^8 - 56*a^6*b^10 + 28*a^4*b^12 - 8*a^2*b^14 + b^16 + c^16 + d^16 - 8*(a^2 + b^2)*c^14 - 8*(a^2 + b^2 + c^2)*d^14 + 4*(7*a^4 + 10*a^2*b^2 + 7*b^4)*c^12 + 4*(7*a^4 + 10*a^2*b^2 + 7*b^4 + 7*c^4 + 10*(a^2 + b^2)*c^2)*d^12 - 8*(7*a^6 + 9*a^4*b^2 + 9*a^2*b^4 + 7*b^6)*c^10 - 8*(7*a^6 + 9*a^4*b^2 + 9*a^2*b^4 + 7*b^6 + 7*c^6 + 9*(a^2 + b^2)*c^4 + (9*a^4 + 22*a^2*b^2 + 9*b^4)*c^2)*d^10 + 2*(35*a^8 + 20*a^6*b^2 + 18*a^4*b^4 + 20*a^2*b^6 + 35*b^8)*c^8 + 2*(35*a^8 + 20*a^6*b^2 + 18*a^4*b^4 + 20*a^2*b^6 + 35*b^8 + 35*c^8 + 20*(a^2 + b^2)*c^6 + 2*(9*a^4 + 86*a^2*b^2 + 9*b^4)*c^4 + 4*(5*a^6 + 43*a^4*b^2 + 43*a^2*b^4 + 5*b^6)*c^2)*d^8 - 8*(7*a^10 - 5*a^8*b^2 - 2*a^6*b^4 - 2*a^4*b^6 - 5*a^2*b^8 + 7*b^10)*c^6 - 8*(7*a^10 - 5*a^8*b^2 - 2*a^6*b^4 - 2*a^4*b^6 - 5*a^2*b^8 + 7*b^10 + 7*c^10 - 5*(a^2 + b^2)*c^8 - 2*(a^4 - 26*a^2*b^2 + b^4)*c^6 - 2*(a^6 - 17*a^4*b^2 - 17*a^2*b^4 + b^6)*c^4 - (5*a^8 - 52*a^6*b^2 - 34*a^4*b^4 - 52*a^2*b^6 + 5*b^8)*c^2)*d^6 + 4*(7*a^12 - 18*a^10*b^2 + 9*a^8*b^4 + 4*a^6*b^6 + 9*a^4*b^8 - 18*a^2*b^10 + 7*b^12)*c^4 + 4*(7*a^12 - 18*a^10*b^2 + 9*a^8*b^4 + 4*a^6*b^6 + 9*a^4*b^8 - 18*a^2*b^10 + 7*b^12 + 7*c^12 - 18*(a^2 + b^2)*c^10 + (9*a^4 + 86*a^2*b^2 + 9*b^4)*c^8 + 4*(a^6 - 17*a^4*b^2 - 17*a^2*b^4 + b^6)*c^6 + (9*a^8 - 68*a^6*b^2 + 502*a^4*b^4 - 68*a^2*b^6 + 9*b^8)*c^4 - 2*(9*a^10 - 43*a^8*b^2 + 34*a^6*b^4 + 34*a^4*b^6 - 43*a^2*b^8 + 9*b^10)*c^2)*d^4 - 8*(a^14 - 5*a^12*b^2 + 9*a^10*b^4 - 5*a^8*b^6 - 5*a^6*b^8 + 9*a^4*b^10 - 5*a^2*b^12 + b^14)*c^2 - 8*(a^14 - 5*a^12*b^2 + 9*a^10*b^4 - 5*a^8*b^6 - 5*a^6*b^8 + 9*a^4*b^10 - 5*a^2*b^12 + b^14 + c^14 - 5*(a^2 + b^2)*c^12 + (9*a^4 + 22*a^2*b^2 + 9*b^4)*c^10 - (5*a^6 + 43*a^4*b^2 + 43*a^2*b^4 + 5*b^6)*c^8 - (5*a^8 - 52*a^6*b^2 - 34*a^4*b^4 - 52*a^2*b^6 + 5*b^8)*c^6 + (9*a^10 - 43*a^8*b^2 + 34*a^6*b^4 + 34*a^4*b^6 - 43*a^2*b^8 + 9*b^10)*c^4 - (5*a^12 - 22*a^10*b^2 + 43*a^8*b^4 - 52*a^6*b^6 + 43*a^4*b^8 - 22*a^2*b^10 + 5*b^12)*c^2)*d^2"
      ]
     },
     "execution_count": 13,
     "metadata": {},
     "output_type": "execute_result"
    }
   ],
   "source": [
    "expandedMultinomial = 1\n",
    "for i, r in enumerate(rootTerms):\n",
    "\texpandedMultinomial = (expandedMultinomial * r).simplify_full()\n",
    "\tprint(\"Done with term\", i, \"out of\", len(rootTerms))\n",
    "# latex(expandedMultinomial.monomials())\n",
    "expandedMultinomial"
   ]
  },
  {
   "cell_type": "code",
   "execution_count": 9,
   "metadata": {},
   "outputs": [
    {
     "data": {
      "text/plain": [
       "a^{4} - 2 \\, a^{2} b^{2} + b^{4}"
      ]
     },
     "execution_count": 9,
     "metadata": {},
     "output_type": "execute_result"
    }
   ],
   "source": [
    "latex(expandedMultinomial)"
   ]
  },
  {
   "cell_type": "code",
   "execution_count": 1,
   "metadata": {},
   "outputs": [],
   "source": [
    "## Testing digital root\n",
    "1.0/49\n",
    "\n",
    "def get_dig(n, d, b = 10):\n",
    "\tassert n < d\n",
    "\twhile n < d:\n",
    "\t\tn = n * b\n",
    "\twhile True:\n",
    "\t\tdig = n // d\n",
    "\t\tn = n % d\n",
    "\t\tyield dig\n",
    "\t\tn = n * b\n",
    "\n",
    "# ite = get_dig(1, 7)\n",
    "# for i in range(10):\n",
    "# \tprint(next(ite))"
   ]
  },
  {
   "cell_type": "code",
   "execution_count": 4,
   "metadata": {},
   "outputs": [
    {
     "data": {
      "text/plain": [
       "(9, '0.204081632653061224489795918367346938775510')"
      ]
     },
     "execution_count": 4,
     "metadata": {},
     "output_type": "execute_result"
    }
   ],
   "source": [
    "a = get_dig(1, 49)\n",
    "s = 0\n",
    "st = \"0.\"\n",
    "for i in range(42):\n",
    "\tdig = next(a)\n",
    "\tst += str(dig)\n",
    "\ts += dig\n",
    "s % 10, st"
   ]
  }
 ],
 "metadata": {
  "kernelspec": {
   "display_name": "SageMath 9.2",
   "language": "sage",
   "name": "sagemath"
  },
  "language_info": {
   "codemirror_mode": {
    "name": "ipython",
    "version": 3
   },
   "file_extension": ".py",
   "mimetype": "text/x-python",
   "name": "python",
   "nbconvert_exporter": "python",
   "pygments_lexer": "ipython3",
   "version": "3.9.7"
  },
  "orig_nbformat": 4
 },
 "nbformat": 4,
 "nbformat_minor": 2
}
